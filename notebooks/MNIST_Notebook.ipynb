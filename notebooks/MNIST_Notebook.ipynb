{
 "cells": [
  {
   "cell_type": "markdown",
   "metadata": {
    "deletable": true,
    "editable": true
   },
   "source": [
    "# MNIST Notebook\n",
    "In this notebook we will use [Clustergrammer-Widget](http://clustergrammer.readthedocs.io/clustergrammer_widget.html) to visualize the [MNIST](http://yann.lecun.com/exdb/mnist/) dataset. The MNIST dataset contains 70,000 handwitten digits. The handwritten digit images are 28x28 pixels and can be thought of as 784 dimensions. "
   ]
  },
  {
   "cell_type": "code",
   "execution_count": 1,
   "metadata": {
    "collapsed": true,
    "deletable": true,
    "editable": true
   },
   "outputs": [],
   "source": [
    "import pandas as pd\n",
    "from clustergrammer_widget import *\n",
    "net = Network(clustergrammer_widget)"
   ]
  },
  {
   "cell_type": "code",
   "execution_count": 2,
   "metadata": {
    "collapsed": false,
    "deletable": true,
    "editable": true
   },
   "outputs": [
    {
     "name": "stdout",
     "output_type": "stream",
     "text": [
      "(784, 70000)\n"
     ]
    }
   ],
   "source": [
    "net.load_file('../processed_MNIST/MNIST_row_labels.txt')\n",
    "mnist_df = net.export_df()\n",
    "print(mnist_df.shape)"
   ]
  },
  {
   "cell_type": "markdown",
   "metadata": {
    "deletable": true,
    "editable": true
   },
   "source": [
    "## Visualize Random Subsampe of MNIST\n",
    "We can not direclty visualize all 70,000 handwritten digits in the MNIST dataset. So we will take two approaches: 1) random subsampling from the dataset, 2) downsampling using K-means. Here we will randomly subsample 200 digits from the dataset. "
   ]
  },
  {
   "cell_type": "code",
   "execution_count": 11,
   "metadata": {
    "collapsed": false,
    "deletable": true,
    "editable": true
   },
   "outputs": [
    {
     "data": {
      "application/vnd.jupyter.widget-view+json": {
       "model_id": "90230bcf66294150ae17d4149201efd1"
      }
     },
     "metadata": {},
     "output_type": "display_data"
    }
   ],
   "source": [
    "net.load_df(mnist_df)\n",
    "net.random_sample(200, axis='col', random_state=100)\n",
    "\n",
    "net.set_cat_color('col', 1, 'digit: Zero', 'yellow')\n",
    "net.set_cat_color('col', 1, 'digit: One', 'blue')\n",
    "net.set_cat_color('col', 1, 'digit: Three', 'red')\n",
    "net.set_cat_color('col', 1, 'digit: Two', 'orange')\n",
    "net.set_cat_color('col', 1, 'digit: Nine', 'black')\n",
    "\n",
    "net.cluster()\n",
    "net.widget()"
   ]
  },
  {
   "cell_type": "markdown",
   "metadata": {
    "collapsed": false,
    "deletable": true,
    "editable": true
   },
   "source": [
    "Above we see a heatmap of "
   ]
  },
  {
   "cell_type": "code",
   "execution_count": 7,
   "metadata": {
    "collapsed": false
   },
   "outputs": [
    {
     "data": {
      "text/plain": [
       "(545, 200)"
      ]
     },
     "execution_count": 7,
     "metadata": {},
     "output_type": "execute_result"
    }
   ],
   "source": [
    "net.dat['mat'].shape"
   ]
  },
  {
   "cell_type": "code",
   "execution_count": 12,
   "metadata": {
    "collapsed": false,
    "deletable": true,
    "editable": true
   },
   "outputs": [
    {
     "data": {
      "application/vnd.jupyter.widget-view+json": {
       "model_id": "c130a78032c145e8be7167a8e7fde5f5"
      }
     },
     "metadata": {},
     "output_type": "display_data"
    }
   ],
   "source": [
    "net.load_df(mnist_df)\n",
    "net.random_sample(200, axis='col', random_state=100)\n",
    "\n",
    "net.set_cat_color('col', 1, 'digit: Zero', 'yellow')\n",
    "net.set_cat_color('col', 1, 'digit: One', 'blue')\n",
    "net.set_cat_color('col', 1, 'digit: Three', 'red')\n",
    "net.set_cat_color('col', 1, 'digit: Two', 'orange')\n",
    "net.set_cat_color('col', 1, 'digit: Nine', 'black')\n",
    "\n",
    "net.cluster()\n",
    "net.widget()"
   ]
  },
  {
   "cell_type": "code",
   "execution_count": null,
   "metadata": {
    "collapsed": true
   },
   "outputs": [],
   "source": []
  }
 ],
 "metadata": {
  "kernelspec": {
   "display_name": "Python 2",
   "language": "python",
   "name": "python2"
  },
  "language_info": {
   "codemirror_mode": {
    "name": "ipython",
    "version": 2
   },
   "file_extension": ".py",
   "mimetype": "text/x-python",
   "name": "python",
   "nbconvert_exporter": "python",
   "pygments_lexer": "ipython2",
   "version": "2.7.12"
  },
  "widgets": {
   "application/vnd.jupyter.widget-state+json": {
    "state": {},
    "version_major": 1,
    "version_minor": 0
   }
  }
 },
 "nbformat": 4,
 "nbformat_minor": 2
}
